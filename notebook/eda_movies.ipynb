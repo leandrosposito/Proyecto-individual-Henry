{
 "cells": [
  {
   "cell_type": "code",
   "execution_count": 19,
   "metadata": {},
   "outputs": [],
   "source": [
    "import pandas as pd\n",
    "import os\n",
    "import ast"
   ]
  },
  {
   "cell_type": "code",
   "execution_count": 20,
   "metadata": {},
   "outputs": [
    {
     "name": "stderr",
     "output_type": "stream",
     "text": [
      "C:\\Users\\Jesus Manuel Martine\\AppData\\Local\\Temp\\ipykernel_10136\\3333092506.py:1: DtypeWarning: Columns (10) have mixed types. Specify dtype option on import or set low_memory=False.\n",
      "  df_movies = pd.read_csv('movies_dataset.csv') # Lectura de primer dataset\n"
     ]
    }
   ],
   "source": [
    "df_movies = pd.read_csv('movies_dataset.csv') # Lectura de primer dataset\n",
    "df_new = df_movies.copy()"
   ]
  },
  {
   "cell_type": "markdown",
   "metadata": {},
   "source": [
    "# Desanidando DataFrame"
   ]
  },
  {
   "cell_type": "code",
   "execution_count": 21,
   "metadata": {},
   "outputs": [],
   "source": [
    "# Desanidar y dividir en belongs_to_collection(id,name)\n",
    "def desanidar_belongs_to_collection(df, column_name='belongs_to_collection'):\n",
    "    def desanidar_collection(collection):\n",
    "        if pd.isna(collection):\n",
    "            return {\"id\": None, \"name\": None}\n",
    "        try:\n",
    "            collection_dict = ast.literal_eval(collection)\n",
    "            if isinstance(collection_dict, dict):\n",
    "                return {\"id\": collection_dict.get(\"id\"), \"name\": collection_dict.get(\"name\")}\n",
    "            else:\n",
    "                return {\"id\": None, \"name\": None}\n",
    "        except (ValueError, SyntaxError):\n",
    "            return {\"id\": None, \"name\": None}\n",
    "    \n",
    "    # Aplicar la función a la columna y crear nuevas columnas para 'id' y 'name'\n",
    "    collection_data = df[column_name].apply(desanidar_collection)\n",
    "    collection_df = pd.json_normalize(collection_data)\n",
    "    \n",
    "    # Renombrar columnas para mayor claridad\n",
    "    collection_df.columns = ['belongs_to_collection_id', 'belongs_to_collection_name']\n",
    "    \n",
    "    # Unir las nuevas columnas al dataframe original y eliminar la columna original\n",
    "    df = pd.concat([df, collection_df], axis=1)\n",
    "    df = df.drop(columns=[column_name])\n",
    "    \n",
    "    return df\n",
    "df_new = desanidar_belongs_to_collection(df_new,column_name='belongs_to_collection')"
   ]
  },
  {
   "cell_type": "code",
   "execution_count": 22,
   "metadata": {},
   "outputs": [],
   "source": [
    "df_new['release_date'] = pd.to_datetime(df_new['release_date'], format = \"%Y-%m-%d\" , errors='coerce')\n",
    "df_new[\"release_date\"].dt.year\n",
    "df_new = df_new.dropna(subset=\"release_date\")\n",
    "\n",
    "df_new[\"release_year\"] = df_new[\"release_date\"].dt.year\n",
    "df_new[\"release_year\"] = df_new[\"release_year\"].astype(int)"
   ]
  },
  {
   "cell_type": "code",
   "execution_count": 23,
   "metadata": {},
   "outputs": [],
   "source": [
    "def buscar_nombre(lista):\n",
    "    #en este caso esto convierte los objetos a listas\n",
    "    lista = ast.literal_eval(lista)\n",
    "    # en caso de haber mas de un diccionario con la clave name devuelve todos los valores concatenados\n",
    "    return ', '.join([i['name'] for i in lista])\n",
    "\n",
    "df_new['genres'] = df_new['genres'].fillna('[]').apply(buscar_nombre)\n",
    "df_new['spoken_languages'] = df_new['spoken_languages'].fillna('[]').apply(buscar_nombre)\n",
    "df_new['production_countries'] = df_new['production_countries'].fillna('[]').apply(buscar_nombre)\n",
    "df_new['production_companies'] = df_new['production_companies'].fillna('[]').apply(buscar_nombre)\n"
   ]
  },
  {
   "cell_type": "code",
   "execution_count": 24,
   "metadata": {},
   "outputs": [
    {
     "name": "stderr",
     "output_type": "stream",
     "text": [
      "C:\\Users\\Jesus Manuel Martine\\AppData\\Local\\Temp\\ipykernel_10136\\170581034.py:1: SettingWithCopyWarning: \n",
      "A value is trying to be set on a copy of a slice from a DataFrame\n",
      "\n",
      "See the caveats in the documentation: https://pandas.pydata.org/pandas-docs/stable/user_guide/indexing.html#returning-a-view-versus-a-copy\n",
      "  df_new[[\"budget\", \"revenue\"]].fillna(0, inplace = True)\n"
     ]
    }
   ],
   "source": [
    "df_new[[\"budget\", \"revenue\"]].fillna(0, inplace = True)\n",
    "df_new= df_new.dropna(subset=[\"release_date\"])"
   ]
  },
  {
   "cell_type": "code",
   "execution_count": 25,
   "metadata": {},
   "outputs": [
    {
     "name": "stdout",
     "output_type": "stream",
     "text": [
      "<class 'pandas.core.frame.DataFrame'>\n",
      "Index: 45376 entries, 0 to 45465\n",
      "Data columns (total 22 columns):\n",
      " #   Column                      Non-Null Count  Dtype         \n",
      "---  ------                      --------------  -----         \n",
      " 0   adult                       45376 non-null  object        \n",
      " 1   budget                      45376 non-null  float64       \n",
      " 2   genres                      45376 non-null  object        \n",
      " 3   id                          45376 non-null  object        \n",
      " 4   original_language           45365 non-null  object        \n",
      " 5   overview                    44435 non-null  object        \n",
      " 6   popularity                  45376 non-null  object        \n",
      " 7   production_companies        45376 non-null  object        \n",
      " 8   production_countries        45376 non-null  object        \n",
      " 9   release_date                45376 non-null  datetime64[ns]\n",
      " 10  revenue                     45376 non-null  float64       \n",
      " 11  runtime                     45130 non-null  float64       \n",
      " 12  spoken_languages            45376 non-null  object        \n",
      " 13  status                      45296 non-null  object        \n",
      " 14  tagline                     20398 non-null  object        \n",
      " 15  title                       45376 non-null  object        \n",
      " 16  vote_average                45376 non-null  float64       \n",
      " 17  vote_count                  45376 non-null  float64       \n",
      " 18  belongs_to_collection_id    4488 non-null   float64       \n",
      " 19  belongs_to_collection_name  4488 non-null   object        \n",
      " 20  release_year                45376 non-null  int64         \n",
      " 21  return                      45376 non-null  float64       \n",
      "dtypes: datetime64[ns](1), float64(7), int64(1), object(13)\n",
      "memory usage: 8.0+ MB\n"
     ]
    }
   ],
   "source": [
    "df_new[\"budget\"] = df_new[\"budget\"].astype(float)\n",
    "df_new['return'] = df_new['revenue'] / df_new['budget'].replace(0, 1)\n",
    "df_new.drop(columns = [\"video\",\"imdb_id\", \"original_title\",\"poster_path\" ,\"homepage\"],inplace = True)\n",
    "df_new.info()"
   ]
  },
  {
   "cell_type": "markdown",
   "metadata": {},
   "source": [
    "# Comienzo de Credits"
   ]
  },
  {
   "cell_type": "code",
   "execution_count": 26,
   "metadata": {},
   "outputs": [],
   "source": [
    "df_credits = pd.read_csv('credits.csv')\n",
    "df_credits_cast = df_credits[['cast']].copy()\n",
    "df_credits_crew = df_credits[['crew']].copy()\n"
   ]
  },
  {
   "cell_type": "code",
   "execution_count": 27,
   "metadata": {},
   "outputs": [],
   "source": [
    "# Desanidado de Cast,Crew y limpieza\n",
    "def desanidar(df, column_name='cast'):\n",
    "    def desanidar_list(list):\n",
    "        if pd.isna(list):\n",
    "            return []\n",
    "        try:\n",
    "            return ast.literal_eval(list)\n",
    "        except (ValueError, SyntaxError):\n",
    "            return []\n",
    "    \n",
    "   \n",
    "    desanidado = df[column_name].apply(desanidar_list)\n",
    "    desanidado_df = desanidado.explode().reset_index(drop=True)\n",
    "\n",
    "    cast_df = pd.json_normalize(desanidado_df)\n",
    "    \n",
    "    return cast_df\n",
    "df_cast_limpio = desanidar(df_credits_cast,column_name='cast')\n",
    "df_crew_limpio = desanidar(df_credits_crew,column_name='crew')\n"
   ]
  },
  {
   "cell_type": "code",
   "execution_count": null,
   "metadata": {},
   "outputs": [
    {
     "data": {
      "text/html": [
       "<div>\n",
       "<style scoped>\n",
       "    .dataframe tbody tr th:only-of-type {\n",
       "        vertical-align: middle;\n",
       "    }\n",
       "\n",
       "    .dataframe tbody tr th {\n",
       "        vertical-align: top;\n",
       "    }\n",
       "\n",
       "    .dataframe thead th {\n",
       "        text-align: right;\n",
       "    }\n",
       "</style>\n",
       "<table border=\"1\" class=\"dataframe\">\n",
       "  <thead>\n",
       "    <tr style=\"text-align: right;\">\n",
       "      <th></th>\n",
       "      <th>cast_id</th>\n",
       "      <th>Voces</th>\n",
       "      <th>credit_id</th>\n",
       "      <th>gender</th>\n",
       "      <th>actor_id</th>\n",
       "      <th>name_actor</th>\n",
       "      <th>order</th>\n",
       "      <th>profile_path</th>\n",
       "    </tr>\n",
       "  </thead>\n",
       "  <tbody>\n",
       "    <tr>\n",
       "      <th>0</th>\n",
       "      <td>14.0</td>\n",
       "      <td>Woody (voice)</td>\n",
       "      <td>52fe4284c3a36847f8024f95</td>\n",
       "      <td>2.0</td>\n",
       "      <td>31.0</td>\n",
       "      <td>Tom Hanks</td>\n",
       "      <td>0.0</td>\n",
       "      <td>/pQFoyx7rp09CJTAb932F2g8Nlho.jpg</td>\n",
       "    </tr>\n",
       "    <tr>\n",
       "      <th>1</th>\n",
       "      <td>15.0</td>\n",
       "      <td>Buzz Lightyear (voice)</td>\n",
       "      <td>52fe4284c3a36847f8024f99</td>\n",
       "      <td>2.0</td>\n",
       "      <td>12898.0</td>\n",
       "      <td>Tim Allen</td>\n",
       "      <td>1.0</td>\n",
       "      <td>/uX2xVf6pMmPepxnvFWyBtjexzgY.jpg</td>\n",
       "    </tr>\n",
       "    <tr>\n",
       "      <th>2</th>\n",
       "      <td>16.0</td>\n",
       "      <td>Mr. Potato Head (voice)</td>\n",
       "      <td>52fe4284c3a36847f8024f9d</td>\n",
       "      <td>2.0</td>\n",
       "      <td>7167.0</td>\n",
       "      <td>Don Rickles</td>\n",
       "      <td>2.0</td>\n",
       "      <td>/h5BcaDMPRVLHLDzbQavec4xfSdt.jpg</td>\n",
       "    </tr>\n",
       "    <tr>\n",
       "      <th>3</th>\n",
       "      <td>17.0</td>\n",
       "      <td>Slinky Dog (voice)</td>\n",
       "      <td>52fe4284c3a36847f8024fa1</td>\n",
       "      <td>2.0</td>\n",
       "      <td>12899.0</td>\n",
       "      <td>Jim Varney</td>\n",
       "      <td>3.0</td>\n",
       "      <td>/eIo2jVVXYgjDtaHoF19Ll9vtW7h.jpg</td>\n",
       "    </tr>\n",
       "    <tr>\n",
       "      <th>4</th>\n",
       "      <td>18.0</td>\n",
       "      <td>Rex (voice)</td>\n",
       "      <td>52fe4284c3a36847f8024fa5</td>\n",
       "      <td>2.0</td>\n",
       "      <td>12900.0</td>\n",
       "      <td>Wallace Shawn</td>\n",
       "      <td>4.0</td>\n",
       "      <td>/oGE6JqPP2xH4tNORKNqxbNPYi7u.jpg</td>\n",
       "    </tr>\n",
       "    <tr>\n",
       "      <th>...</th>\n",
       "      <td>...</td>\n",
       "      <td>...</td>\n",
       "      <td>...</td>\n",
       "      <td>...</td>\n",
       "      <td>...</td>\n",
       "      <td>...</td>\n",
       "      <td>...</td>\n",
       "      <td>...</td>\n",
       "    </tr>\n",
       "    <tr>\n",
       "      <th>564887</th>\n",
       "      <td>3.0</td>\n",
       "      <td></td>\n",
       "      <td>52fe4ea59251416c7515d7d9</td>\n",
       "      <td>1.0</td>\n",
       "      <td>1090923.0</td>\n",
       "      <td>Nathalie Lissenko</td>\n",
       "      <td>1.0</td>\n",
       "      <td>None</td>\n",
       "    </tr>\n",
       "    <tr>\n",
       "      <th>564888</th>\n",
       "      <td>4.0</td>\n",
       "      <td></td>\n",
       "      <td>52fe4ea59251416c7515d7dd</td>\n",
       "      <td>2.0</td>\n",
       "      <td>1136422.0</td>\n",
       "      <td>Pavel Pavlov</td>\n",
       "      <td>2.0</td>\n",
       "      <td>None</td>\n",
       "    </tr>\n",
       "    <tr>\n",
       "      <th>564889</th>\n",
       "      <td>5.0</td>\n",
       "      <td></td>\n",
       "      <td>52fe4ea59251416c7515d7e1</td>\n",
       "      <td>0.0</td>\n",
       "      <td>1261758.0</td>\n",
       "      <td>Aleksandr Chabrov</td>\n",
       "      <td>3.0</td>\n",
       "      <td>None</td>\n",
       "    </tr>\n",
       "    <tr>\n",
       "      <th>564890</th>\n",
       "      <td>6.0</td>\n",
       "      <td></td>\n",
       "      <td>52fe4ea59251416c7515d7e5</td>\n",
       "      <td>1.0</td>\n",
       "      <td>29199.0</td>\n",
       "      <td>Vera Orlova</td>\n",
       "      <td>4.0</td>\n",
       "      <td>/n1NXVGNzNxtqsMWxLT1h8GO8Kpi.jpg</td>\n",
       "    </tr>\n",
       "    <tr>\n",
       "      <th>564891</th>\n",
       "      <td>NaN</td>\n",
       "      <td>NaN</td>\n",
       "      <td>NaN</td>\n",
       "      <td>NaN</td>\n",
       "      <td>NaN</td>\n",
       "      <td>NaN</td>\n",
       "      <td>NaN</td>\n",
       "      <td>NaN</td>\n",
       "    </tr>\n",
       "  </tbody>\n",
       "</table>\n",
       "<p>564892 rows × 8 columns</p>\n",
       "</div>"
      ],
      "text/plain": [
       "        cast_id                    Voces                 credit_id  gender  \\\n",
       "0          14.0            Woody (voice)  52fe4284c3a36847f8024f95     2.0   \n",
       "1          15.0   Buzz Lightyear (voice)  52fe4284c3a36847f8024f99     2.0   \n",
       "2          16.0  Mr. Potato Head (voice)  52fe4284c3a36847f8024f9d     2.0   \n",
       "3          17.0       Slinky Dog (voice)  52fe4284c3a36847f8024fa1     2.0   \n",
       "4          18.0              Rex (voice)  52fe4284c3a36847f8024fa5     2.0   \n",
       "...         ...                      ...                       ...     ...   \n",
       "564887      3.0                           52fe4ea59251416c7515d7d9     1.0   \n",
       "564888      4.0                           52fe4ea59251416c7515d7dd     2.0   \n",
       "564889      5.0                           52fe4ea59251416c7515d7e1     0.0   \n",
       "564890      6.0                           52fe4ea59251416c7515d7e5     1.0   \n",
       "564891      NaN                      NaN                       NaN     NaN   \n",
       "\n",
       "         actor_id         name_actor  order                      profile_path  \n",
       "0            31.0          Tom Hanks    0.0  /pQFoyx7rp09CJTAb932F2g8Nlho.jpg  \n",
       "1         12898.0          Tim Allen    1.0  /uX2xVf6pMmPepxnvFWyBtjexzgY.jpg  \n",
       "2          7167.0        Don Rickles    2.0  /h5BcaDMPRVLHLDzbQavec4xfSdt.jpg  \n",
       "3         12899.0         Jim Varney    3.0  /eIo2jVVXYgjDtaHoF19Ll9vtW7h.jpg  \n",
       "4         12900.0      Wallace Shawn    4.0  /oGE6JqPP2xH4tNORKNqxbNPYi7u.jpg  \n",
       "...           ...                ...    ...                               ...  \n",
       "564887  1090923.0  Nathalie Lissenko    1.0                              None  \n",
       "564888  1136422.0       Pavel Pavlov    2.0                              None  \n",
       "564889  1261758.0  Aleksandr Chabrov    3.0                              None  \n",
       "564890    29199.0        Vera Orlova    4.0  /n1NXVGNzNxtqsMWxLT1h8GO8Kpi.jpg  \n",
       "564891        NaN                NaN    NaN                               NaN  \n",
       "\n",
       "[564892 rows x 8 columns]"
      ]
     },
     "execution_count": 12,
     "metadata": {},
     "output_type": "execute_result"
    }
   ],
   "source": [
    "df_cast_limpio = df_cast_limpio.rename(columns={\n",
    "    'character': 'Voces',\n",
    "    'id': 'actor_id',\n",
    "    'name': 'name_actor',\n",
    "})"
   ]
  },
  {
   "cell_type": "code",
   "execution_count": null,
   "metadata": {},
   "outputs": [],
   "source": [
    "def guardar_csv_en_carpeta(df, nombre_archivo, carpeta='Data'):\n",
    "\n",
    "    if not os.path.exists(carpeta):\n",
    "        os.makedirs(carpeta)\n",
    "\n",
    "    ruta_archivo = os.path.join(carpeta, nombre_archivo)\n",
    "\n",
    "    df.to_csv(ruta_archivo, index=False)"
   ]
  },
  {
   "cell_type": "code",
   "execution_count": null,
   "metadata": {},
   "outputs": [
    {
     "ename": "KeyError",
     "evalue": "\"None of [Index(['cast_id,actor_id,name_actor,credit_id'], dtype='object')] are in the [columns]\"",
     "output_type": "error",
     "traceback": [
      "\u001b[1;31m---------------------------------------------------------------------------\u001b[0m",
      "\u001b[1;31mKeyError\u001b[0m                                  Traceback (most recent call last)",
      "Cell \u001b[1;32mIn[18], line 2\u001b[0m\n\u001b[0;32m      1\u001b[0m \u001b[38;5;66;03m# Cargando Dataframes Limpios\u001b[39;00m\n\u001b[1;32m----> 2\u001b[0m guardar_csv_en_carpeta(\u001b[43mdf_cast_limpio\u001b[49m\u001b[43m[\u001b[49m\u001b[43m[\u001b[49m\u001b[38;5;124;43m'\u001b[39;49m\u001b[38;5;124;43mcast_id,actor_id,name_actor,credit_id\u001b[39;49m\u001b[38;5;124;43m'\u001b[39;49m\u001b[43m]\u001b[49m\u001b[43m]\u001b[49m,\u001b[38;5;124m'\u001b[39m\u001b[38;5;124mcast_limpio.csv\u001b[39m\u001b[38;5;124m'\u001b[39m,carpeta\u001b[38;5;241m=\u001b[39m\u001b[38;5;124m'\u001b[39m\u001b[38;5;124mData\u001b[39m\u001b[38;5;124m'\u001b[39m)\n\u001b[0;32m      3\u001b[0m guardar_csv_en_carpeta(df_crew_limpio,\u001b[38;5;124m'\u001b[39m\u001b[38;5;124mcrew_limpio.csv\u001b[39m\u001b[38;5;124m'\u001b[39m,carpeta\u001b[38;5;241m=\u001b[39m\u001b[38;5;124m'\u001b[39m\u001b[38;5;124mData\u001b[39m\u001b[38;5;124m'\u001b[39m)\n\u001b[0;32m      4\u001b[0m guardar_csv_en_carpeta(df_new[[\u001b[38;5;124m'\u001b[39m\u001b[38;5;124mtitle\u001b[39m\u001b[38;5;124m'\u001b[39m,\u001b[38;5;124m'\u001b[39m\u001b[38;5;124mrelease_date\u001b[39m\u001b[38;5;124m'\u001b[39m,\u001b[38;5;124m'\u001b[39m\u001b[38;5;124mvote_count\u001b[39m\u001b[38;5;124m'\u001b[39m,\u001b[38;5;124m'\u001b[39m\u001b[38;5;124mvote_average\u001b[39m\u001b[38;5;124m'\u001b[39m]],\u001b[38;5;124m'\u001b[39m\u001b[38;5;124mDatos_de_Pelicula.csv\u001b[39m\u001b[38;5;124m'\u001b[39m,carpeta\u001b[38;5;241m=\u001b[39m\u001b[38;5;124m'\u001b[39m\u001b[38;5;124mData\u001b[39m\u001b[38;5;124m'\u001b[39m)\n",
      "File \u001b[1;32mc:\\Users\\Jesus Manuel Martine\\Documents\\Trabajo_Individual_Soy_Henry\\Proyecto_Individual\\Lib\\site-packages\\pandas\\core\\frame.py:4108\u001b[0m, in \u001b[0;36mDataFrame.__getitem__\u001b[1;34m(self, key)\u001b[0m\n\u001b[0;32m   4106\u001b[0m     \u001b[38;5;28;01mif\u001b[39;00m is_iterator(key):\n\u001b[0;32m   4107\u001b[0m         key \u001b[38;5;241m=\u001b[39m \u001b[38;5;28mlist\u001b[39m(key)\n\u001b[1;32m-> 4108\u001b[0m     indexer \u001b[38;5;241m=\u001b[39m \u001b[38;5;28;43mself\u001b[39;49m\u001b[38;5;241;43m.\u001b[39;49m\u001b[43mcolumns\u001b[49m\u001b[38;5;241;43m.\u001b[39;49m\u001b[43m_get_indexer_strict\u001b[49m\u001b[43m(\u001b[49m\u001b[43mkey\u001b[49m\u001b[43m,\u001b[49m\u001b[43m \u001b[49m\u001b[38;5;124;43m\"\u001b[39;49m\u001b[38;5;124;43mcolumns\u001b[39;49m\u001b[38;5;124;43m\"\u001b[39;49m\u001b[43m)\u001b[49m[\u001b[38;5;241m1\u001b[39m]\n\u001b[0;32m   4110\u001b[0m \u001b[38;5;66;03m# take() does not accept boolean indexers\u001b[39;00m\n\u001b[0;32m   4111\u001b[0m \u001b[38;5;28;01mif\u001b[39;00m \u001b[38;5;28mgetattr\u001b[39m(indexer, \u001b[38;5;124m\"\u001b[39m\u001b[38;5;124mdtype\u001b[39m\u001b[38;5;124m\"\u001b[39m, \u001b[38;5;28;01mNone\u001b[39;00m) \u001b[38;5;241m==\u001b[39m \u001b[38;5;28mbool\u001b[39m:\n",
      "File \u001b[1;32mc:\\Users\\Jesus Manuel Martine\\Documents\\Trabajo_Individual_Soy_Henry\\Proyecto_Individual\\Lib\\site-packages\\pandas\\core\\indexes\\base.py:6200\u001b[0m, in \u001b[0;36mIndex._get_indexer_strict\u001b[1;34m(self, key, axis_name)\u001b[0m\n\u001b[0;32m   6197\u001b[0m \u001b[38;5;28;01melse\u001b[39;00m:\n\u001b[0;32m   6198\u001b[0m     keyarr, indexer, new_indexer \u001b[38;5;241m=\u001b[39m \u001b[38;5;28mself\u001b[39m\u001b[38;5;241m.\u001b[39m_reindex_non_unique(keyarr)\n\u001b[1;32m-> 6200\u001b[0m \u001b[38;5;28;43mself\u001b[39;49m\u001b[38;5;241;43m.\u001b[39;49m\u001b[43m_raise_if_missing\u001b[49m\u001b[43m(\u001b[49m\u001b[43mkeyarr\u001b[49m\u001b[43m,\u001b[49m\u001b[43m \u001b[49m\u001b[43mindexer\u001b[49m\u001b[43m,\u001b[49m\u001b[43m \u001b[49m\u001b[43maxis_name\u001b[49m\u001b[43m)\u001b[49m\n\u001b[0;32m   6202\u001b[0m keyarr \u001b[38;5;241m=\u001b[39m \u001b[38;5;28mself\u001b[39m\u001b[38;5;241m.\u001b[39mtake(indexer)\n\u001b[0;32m   6203\u001b[0m \u001b[38;5;28;01mif\u001b[39;00m \u001b[38;5;28misinstance\u001b[39m(key, Index):\n\u001b[0;32m   6204\u001b[0m     \u001b[38;5;66;03m# GH 42790 - Preserve name from an Index\u001b[39;00m\n",
      "File \u001b[1;32mc:\\Users\\Jesus Manuel Martine\\Documents\\Trabajo_Individual_Soy_Henry\\Proyecto_Individual\\Lib\\site-packages\\pandas\\core\\indexes\\base.py:6249\u001b[0m, in \u001b[0;36mIndex._raise_if_missing\u001b[1;34m(self, key, indexer, axis_name)\u001b[0m\n\u001b[0;32m   6247\u001b[0m \u001b[38;5;28;01mif\u001b[39;00m nmissing:\n\u001b[0;32m   6248\u001b[0m     \u001b[38;5;28;01mif\u001b[39;00m nmissing \u001b[38;5;241m==\u001b[39m \u001b[38;5;28mlen\u001b[39m(indexer):\n\u001b[1;32m-> 6249\u001b[0m         \u001b[38;5;28;01mraise\u001b[39;00m \u001b[38;5;167;01mKeyError\u001b[39;00m(\u001b[38;5;124mf\u001b[39m\u001b[38;5;124m\"\u001b[39m\u001b[38;5;124mNone of [\u001b[39m\u001b[38;5;132;01m{\u001b[39;00mkey\u001b[38;5;132;01m}\u001b[39;00m\u001b[38;5;124m] are in the [\u001b[39m\u001b[38;5;132;01m{\u001b[39;00maxis_name\u001b[38;5;132;01m}\u001b[39;00m\u001b[38;5;124m]\u001b[39m\u001b[38;5;124m\"\u001b[39m)\n\u001b[0;32m   6251\u001b[0m     not_found \u001b[38;5;241m=\u001b[39m \u001b[38;5;28mlist\u001b[39m(ensure_index(key)[missing_mask\u001b[38;5;241m.\u001b[39mnonzero()[\u001b[38;5;241m0\u001b[39m]]\u001b[38;5;241m.\u001b[39munique())\n\u001b[0;32m   6252\u001b[0m     \u001b[38;5;28;01mraise\u001b[39;00m \u001b[38;5;167;01mKeyError\u001b[39;00m(\u001b[38;5;124mf\u001b[39m\u001b[38;5;124m\"\u001b[39m\u001b[38;5;132;01m{\u001b[39;00mnot_found\u001b[38;5;132;01m}\u001b[39;00m\u001b[38;5;124m not in index\u001b[39m\u001b[38;5;124m\"\u001b[39m)\n",
      "\u001b[1;31mKeyError\u001b[0m: \"None of [Index(['cast_id,actor_id,name_actor,credit_id'], dtype='object')] are in the [columns]\""
     ]
    }
   ],
   "source": [
    "# Cargando Dataframes Limpios\n",
    "guardar_csv_en_carpeta(df_cast_limpio[['cast_id','actor_id','name_actor','credit_id']],'cast_limpio.csv',carpeta='Data')\n",
    "guardar_csv_en_carpeta(df_crew_limpio,'crew_limpio.csv',carpeta='Data')\n",
    "guardar_csv_en_carpeta(df_new[['title','release_date','vote_count','vote_average']],'Datos_de_Pelicula.csv',carpeta='Data')"
   ]
  }
 ],
 "metadata": {
  "kernelspec": {
   "display_name": "Proyecto_Individual",
   "language": "python",
   "name": "python3"
  },
  "language_info": {
   "codemirror_mode": {
    "name": "ipython",
    "version": 3
   },
   "file_extension": ".py",
   "mimetype": "text/x-python",
   "name": "python",
   "nbconvert_exporter": "python",
   "pygments_lexer": "ipython3",
   "version": "3.12.4"
  }
 },
 "nbformat": 4,
 "nbformat_minor": 2
}
