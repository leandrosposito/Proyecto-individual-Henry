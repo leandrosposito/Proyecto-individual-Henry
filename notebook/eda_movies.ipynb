{
 "cells": [
  {
   "cell_type": "code",
   "execution_count": null,
   "metadata": {},
   "outputs": [],
   "source": [
    "import pandas as pd\n",
    "import os\n",
    "import ast"
   ]
  },
  {
   "cell_type": "code",
   "execution_count": null,
   "metadata": {},
   "outputs": [],
   "source": [
    " # Lectura de primer dataset\n",
    "df_movies = pd.read_csv('movies_dataset.csv')\n",
    "df_new = df_movies.copy()"
   ]
  },
  {
   "cell_type": "code",
   "execution_count": null,
   "metadata": {},
   "outputs": [],
   "source": [
    "# Desanidar y dividir en belongs_to_collection(id,name)\n",
    "def desanidar_belongs_to_collection(df, column_name='belongs_to_collection'):\n",
    "    def desanidar_collection(collection):\n",
    "        if pd.isna(collection):\n",
    "            return {\"id\": None, \"name\": None}\n",
    "        try:\n",
    "            collection_dict = ast.literal_eval(collection)\n",
    "            if isinstance(collection_dict, dict):\n",
    "                return {\"id\": collection_dict.get(\"id\"), \"name\": collection_dict.get(\"name\")}\n",
    "            else:\n",
    "                return {\"id\": None, \"name\": None}\n",
    "        except (ValueError, SyntaxError):\n",
    "            return {\"id\": None, \"name\": None}\n",
    "    \n",
    "    # Aplicar la función a la columna y crear nuevas columnas para 'id' y 'name'\n",
    "    collection_data = df[column_name].apply(desanidar_collection)\n",
    "    collection_df = pd.json_normalize(collection_data)\n",
    "    \n",
    "    # Renombrar columnas para mayor claridad\n",
    "    collection_df.columns = ['belongs_to_collection_id', 'belongs_to_collection_name']\n",
    "    \n",
    "    # Unir las nuevas columnas al dataframe original y eliminar la columna original\n",
    "    df = pd.concat([df, collection_df], axis=1)\n",
    "    df = df.drop(columns=[column_name])\n",
    "    \n",
    "    return df\n",
    "df_new = desanidar_belongs_to_collection(df_new,column_name='belongs_to_collection')"
   ]
  },
  {
   "cell_type": "code",
   "execution_count": null,
   "metadata": {},
   "outputs": [],
   "source": [
    "df_new['release_date'] = pd.to_datetime(df_new['release_date'], format = \"%Y-%m-%d\" , errors='coerce')\n",
    "df_new[\"release_date\"].dt.year\n",
    "df_new = df_new.dropna(subset=\"release_date\")\n",
    "\n",
    "df_new[\"release_year\"] = df_new[\"release_date\"].dt.year\n",
    "df_new[\"release_year\"] = df_new[\"release_year\"].astype(int)"
   ]
  },
  {
   "cell_type": "code",
   "execution_count": null,
   "metadata": {},
   "outputs": [],
   "source": [
    "def buscar_nombre(lista):\n",
    "    \n",
    "    lista = ast.literal_eval(lista)  #en este caso esto convierte los objetos a listas\n",
    "    \n",
    "    return ', '.join([i['name'] for i in lista])   # en caso de haber mas de un diccionario con la clave name devuelve todos los valores concatenados\n",
    "\n",
    "df_new['genres'] = df_new['genres'].fillna('[]').apply(buscar_nombre)\n",
    "df_new['spoken_languages'] = df_new['spoken_languages'].fillna('[]').apply(buscar_nombre)\n",
    "df_new['production_countries'] = df_new['production_countries'].fillna('[]').apply(buscar_nombre)\n",
    "df_new['production_companies'] = df_new['production_companies'].fillna('[]').apply(buscar_nombre)\n"
   ]
  },
  {
   "cell_type": "code",
   "execution_count": null,
   "metadata": {},
   "outputs": [],
   "source": [
    "df_new[[\"budget\", \"revenue\"]].fillna(0, inplace = True)\n",
    "df_new= df_new.dropna(subset=[\"release_date\"])"
   ]
  },
  {
   "cell_type": "code",
   "execution_count": null,
   "metadata": {},
   "outputs": [],
   "source": [
    "df_new[\"budget\"] = df_new[\"budget\"].astype(float)\n",
    "df_new['return'] = df_new['revenue'] / df_new['budget'].replace(0, 1)\n",
    "df_new.drop(columns = [\"video\",\"imdb_id\", \"original_title\",\"poster_path\" ,\"homepage\"],inplace = True)\n",
    "df_new.info()"
   ]
  },
  {
   "cell_type": "code",
   "execution_count": null,
   "metadata": {},
   "outputs": [],
   "source": [
    "def csv_carpeta(df, nombre_archivo, carpeta='Data'):\n",
    "\n",
    "    if not os.path.exists(carpeta):\n",
    "        os.makedirs(carpeta)\n",
    "\n",
    "    ruta_archivo = os.path.join(carpeta, nombre_archivo)\n",
    "\n",
    "    df.to_csv(ruta_archivo, index=False)"
   ]
  },
  {
   "cell_type": "code",
   "execution_count": null,
   "metadata": {},
   "outputs": [],
   "source": [
    "csv_carpeta(df_new[['title','release_date','vote_count','vote_average']],'Datos_de_Pelicula.csv',carpeta='Data')"
   ]
  }
 ],
 "metadata": {
  "kernelspec": {
   "display_name": "Proyecto_Individual",
   "language": "python",
   "name": "python3"
  },
  "language_info": {
   "codemirror_mode": {
    "name": "ipython",
    "version": 3
   },
   "file_extension": ".py",
   "mimetype": "text/x-python",
   "name": "python",
   "nbconvert_exporter": "python",
   "pygments_lexer": "ipython3",
   "version": "3.12.2"
  }
 },
 "nbformat": 4,
 "nbformat_minor": 2
}
