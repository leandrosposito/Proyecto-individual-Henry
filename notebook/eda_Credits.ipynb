{
 "cells": [
  {
   "cell_type": "code",
   "execution_count": 13,
   "metadata": {},
   "outputs": [],
   "source": [
    "import pandas as pd\n",
    "import os\n",
    "import ast"
   ]
  },
  {
   "cell_type": "code",
   "execution_count": 14,
   "metadata": {},
   "outputs": [],
   "source": [
    "df_credits = pd.read_csv('credits.csv')\n",
    "df_credits_cast = df_credits[['cast']].copy()\n",
    "df_credits_crew = df_credits[['crew']].copy()"
   ]
  },
  {
   "cell_type": "code",
   "execution_count": 15,
   "metadata": {},
   "outputs": [],
   "source": [
    "# Desanidado de Cast,Crew y limpieza\n",
    "def desanidar(df, column_name='cast'):\n",
    "    def desanidar_list(list):\n",
    "        \n",
    "        if pd.isna(list):\n",
    "            return []\n",
    "        try:\n",
    "            return ast.literal_eval(list)\n",
    "        except (ValueError, SyntaxError):\n",
    "            return []\n",
    "    \n",
    "    desanidado = df[column_name].apply(desanidar_list)\n",
    "    desanidado_df = desanidado.explode().reset_index(drop=True)\n",
    "\n",
    "    cast_df = pd.json_normalize(desanidado_df)\n",
    "    \n",
    "    return cast_df\n",
    "\n",
    "df_cast_limpio = desanidar(df_credits_cast,column_name='cast')\n",
    "df_crew_limpio = desanidar(df_credits_crew,column_name='crew')"
   ]
  },
  {
   "cell_type": "code",
   "execution_count": 16,
   "metadata": {},
   "outputs": [],
   "source": [
    "df_cast_limpio = df_cast_limpio.rename(columns={\n",
    "    'character': 'Voces',\n",
    "    'id': 'actor_id',\n",
    "    'name': 'name_actor',\n",
    "})"
   ]
  },
  {
   "cell_type": "code",
   "execution_count": 17,
   "metadata": {},
   "outputs": [],
   "source": [
    "def csv_carpeta(df, nombre_archivo, carpeta='Data'):\n",
    "\n",
    "    if not os.path.exists(carpeta):\n",
    "        os.makedirs(carpeta)\n",
    "\n",
    "    ruta_archivo = os.path.join(carpeta, nombre_archivo)\n",
    "\n",
    "    df.to_csv(ruta_archivo, index=False)"
   ]
  },
  {
   "cell_type": "code",
   "execution_count": 18,
   "metadata": {},
   "outputs": [],
   "source": [
    "# Cargando Dataframes Limpios\n",
    "csv_carpeta(df_cast_limpio[['cast_id','actor_id','name_actor','credit_id']],'cast_limpio.csv',carpeta='Data')\n",
    "csv_carpeta(df_crew_limpio,'crew_limpio.csv',carpeta='Data')\n"
   ]
  }
 ],
 "metadata": {
  "kernelspec": {
   "display_name": "Proyect",
   "language": "python",
   "name": "python3"
  },
  "language_info": {
   "codemirror_mode": {
    "name": "ipython",
    "version": 3
   },
   "file_extension": ".py",
   "mimetype": "text/x-python",
   "name": "python",
   "nbconvert_exporter": "python",
   "pygments_lexer": "ipython3",
   "version": "3.12.2"
  }
 },
 "nbformat": 4,
 "nbformat_minor": 2
}
